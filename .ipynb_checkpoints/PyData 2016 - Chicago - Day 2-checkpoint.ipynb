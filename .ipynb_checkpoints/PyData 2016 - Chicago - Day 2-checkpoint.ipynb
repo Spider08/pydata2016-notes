{
 "cells": [
  {
   "cell_type": "markdown",
   "metadata": {
    "collapsed": true
   },
   "source": [
    "# Table of Contents"
   ]
  },
  {
   "cell_type": "markdown",
   "metadata": {},
   "source": [
    "* [1. Keynote: Scaling Human Learning](#scaling_human_learning)\n",
    "* [2. Deconstructing Feather](#feather_deconstruction)\n",
    "* [3. Microsoft AI](#microsoft_ai)\n",
    "* [4. Explaining Classification Algorithms](#explaining_classification)\n",
    "* [5. Keynote: Data Science For Social Good](#dssg)\n",
    "* [6. Fizzbuzz & Neural Networks](#fizz_buzz)\n",
    "* [7. Pyglmnet- porting from R](#pyglm)\n",
    "* [8. Scikit-learn pipelines](#sklearn_pipeline)\n",
    "* [9. Lightening talks](#l_talks)"
   ]
  },
  {
   "cell_type": "markdown",
   "metadata": {},
   "source": [
    "<a id='scaling_human_learning'></a>"
   ]
  },
  {
   "cell_type": "markdown",
   "metadata": {},
   "source": [
    "# Keynote: Scaling Human Learning"
   ]
  },
  {
   "cell_type": "markdown",
   "metadata": {},
   "source": [
    "[Katy Huff](https://twitter.com/katyhuff)\n",
    "\n",
    "Nuclear Engineer @ UIUC"
   ]
  },
  {
   "cell_type": "markdown",
   "metadata": {},
   "source": [
    "- [The Hacker Within](http://www.thehackerwithin.org/)\n",
    "    * Models that have worked\n",
    "    * Models that have failed\n",
    "        * single point-of-failure\n",
    "\n",
    "- [Software Carpentry](https://swcarpentry.github.io/python-novice-inflammation/)\n",
    "\n",
    "- [Data Carpentry](http://www.datacarpentry.org/)\n",
    "\n",
    "- Tools\n",
    "    * [Binder](http://mybinder.org/)\n",
    "    * [Data Science Textbook](http://www.inferentialthinking.com/)\n",
    "    * Effective Computation in Physics\n",
    "\n",
    "- Why do it?\n",
    "   * community\n",
    "   * travel\n",
    "   * teaching experience\n",
    "   * felt need\n",
    "\n",
    "- What we should do?\n",
    "    * Lower the barrier, not the standards\n",
    "    * New Dev instructions\n",
    "    * Document well\n",
    "    * Curate low hanging fruit\n",
    "    * Targeted sprints\n",
    "    * Appoint ambassador\n",
    "    * Consider Users Conferences"
   ]
  },
  {
   "cell_type": "markdown",
   "metadata": {},
   "source": [
    "<a id='feather_deconstruction'></a>"
   ]
  },
  {
   "cell_type": "markdown",
   "metadata": {},
   "source": [
    "# Feather"
   ]
  },
  {
   "cell_type": "markdown",
   "metadata": {},
   "source": [
    "[Bill Lattner](https://twitter.com/wlattner)\n",
    "\n",
    "[Feather](https://github.com/wesm/feather)\n",
    "\n",
    "[Slides for the talk](https://speakerdeck.com/wlattner/deconstructing-feather)"
   ]
  },
  {
   "cell_type": "markdown",
   "metadata": {},
   "source": [
    "- Exchange tabular data between Python, R, and others\n",
    "- Fast read/write\n",
    "- Represent categorical features\n",
    "- it's about the metadata"
   ]
  },
  {
   "cell_type": "markdown",
   "metadata": {},
   "source": [
    "- memory access cost depends on both location + predictability\n",
    "- sequential access FTW\n",
    "\n",
    "**Idea**\n",
    "- on-disk representation should be similar to in-memory representation\n",
    "- columnar layout is good fit for analytic workflows\n",
    "    * columnar layout from [arrow](http://arrow.apache.org/)\n",
    "    \n",
    "    \n",
    "**Simplicity**\n",
    "```python\n",
    "feather.read_dataframe(path, columns=None)\n",
    "```"
   ]
  },
  {
   "cell_type": "markdown",
   "metadata": {},
   "source": [
    "- each column is serialized into a dataframe\n",
    "- bitmask of nulls\n",
    "- values\n",
    "- looks liike dataframe in R\n",
    "- no current in-place concatenations\n",
    "- how does it handle escape characters\n",
    "- \n",
    "\n",
    "** Future of feather **\n",
    "\n",
    "- in-place operations\n",
    "- zero parsing or copying to Pandas memory\n",
    "- [mmap](https://pymotw.com/2/mmap/) the feather file\n",
    "- input to sklearn or statsmodels\n",
    "- output from PostgreSQL\n",
    "\n",
    "** Use case **\n",
    "- passing data between R and Python in computation\n",
    "- As part of a Luigi Pipeline"
   ]
  },
  {
   "cell_type": "markdown",
   "metadata": {
    "collapsed": false
   },
   "source": [
    "<a 'microsoft_ai'></a>"
   ]
  },
  {
   "cell_type": "markdown",
   "metadata": {},
   "source": [
    "# Microsoft Cognitive Services"
   ]
  },
  {
   "cell_type": "markdown",
   "metadata": {},
   "source": [
    "[David Girard](http://www.DavidGiard.com)"
   ]
  },
  {
   "cell_type": "markdown",
   "metadata": {},
   "source": [
    "** Examples**\n",
    "- [What Dog](https://www.what-dog.net/)\n",
    "- [How-Old](https://how-old.net/)\n",
    "\n",
    "\n",
    "[Cognitive Services API](https://www.microsoft.com/cognitive-services)\n",
    "- Times per month\n",
    "- Times per minute\n"
   ]
  },
  {
   "cell_type": "markdown",
   "metadata": {},
   "source": [
    "[Jupyter Notebook Demo](https://github.com/Microsoft/Cognitive-Vision-Python)"
   ]
  },
  {
   "cell_type": "markdown",
   "metadata": {},
   "source": [
    "[Demos](https://github.com/DavidGiard/CognitiveSvcsDemos)"
   ]
  },
  {
   "cell_type": "markdown",
   "metadata": {},
   "source": [
    "<a id='explaining_classification'></a>"
   ]
  },
  {
   "cell_type": "markdown",
   "metadata": {},
   "source": [
    "# Explaining classification algorithms"
   ]
  },
  {
   "cell_type": "markdown",
   "metadata": {},
   "source": [
    "[Brian Lange](https://twitter.com/bjlange)"
   ]
  },
  {
   "cell_type": "markdown",
   "metadata": {},
   "source": [
    "## Popular examples\n",
    "- Sorting Hat\n",
    "- Spam filter"
   ]
  },
  {
   "cell_type": "markdown",
   "metadata": {},
   "source": [
    "## Notes\n",
    "- Need labelled data for training\n",
    "- feature = dimension - column = attribute \n",
    "- class= categorization\n",
    "\n",
    "**Caveat**\n",
    "- Choosing good features or getting more data will help more than changing algorithms\n",
    "\n",
    "*How do we find the least terrible line using gradient descent?*"
   ]
  },
  {
   "cell_type": "markdown",
   "metadata": {},
   "source": [
    "## Implementing a spam filter"
   ]
  },
  {
   "cell_type": "code",
   "execution_count": 15,
   "metadata": {
    "collapsed": false
   },
   "outputs": [],
   "source": [
    "import numpy as np\n",
    "import sklearn"
   ]
  },
  {
   "cell_type": "code",
   "execution_count": 16,
   "metadata": {
    "collapsed": true
   },
   "outputs": [],
   "source": [
    "x = np.array([[0 , 0.1], [3, 0.2], [5, 0.1]])\n",
    "y = np.array([1,2,1])"
   ]
  },
  {
   "cell_type": "code",
   "execution_count": 17,
   "metadata": {
    "collapsed": false
   },
   "outputs": [
    {
     "name": "stderr",
     "output_type": "stream",
     "text": [
      "/Library/Frameworks/Python.framework/Versions/3.5/lib/python3.5/site-packages/sklearn/discriminant_analysis.py:387: UserWarning: Variables are collinear.\n",
      "  warnings.warn(\"Variables are collinear.\")\n"
     ]
    },
    {
     "data": {
      "text/plain": [
       "LinearDiscriminantAnalysis(n_components=None, priors=None, shrinkage=None,\n",
       "              solver='svd', store_covariance=False, tol=0.0001)"
      ]
     },
     "execution_count": 17,
     "metadata": {},
     "output_type": "execute_result"
    }
   ],
   "source": [
    "from sklearn.discriminant_analysis import LinearDiscriminantAnalysis\n",
    "model = LinearDiscriminantAnalysis()\n",
    "model.fit(x,y)"
   ]
  },
  {
   "cell_type": "code",
   "execution_count": 18,
   "metadata": {
    "collapsed": false
   },
   "outputs": [
    {
     "name": "stdout",
     "output_type": "stream",
     "text": [
      "[1]\n"
     ]
    },
    {
     "name": "stderr",
     "output_type": "stream",
     "text": [
      "/Library/Frameworks/Python.framework/Versions/3.5/lib/python3.5/site-packages/sklearn/utils/validation.py:386: DeprecationWarning: Passing 1d arrays as data is deprecated in 0.17 and willraise ValueError in 0.19. Reshape your data either using X.reshape(-1, 1) if your data has a single feature or X.reshape(1, -1) if it contains a single sample.\n",
      "  DeprecationWarning)\n"
     ]
    }
   ],
   "source": [
    "new_point = np.array([1, .3])\n",
    "print(model.predict(new_point))"
   ]
  },
  {
   "cell_type": "markdown",
   "metadata": {},
   "source": [
    "Most of the time, we don't use a Linear Discriminant Classifier. Other models include logistic regression. When there's a gradient between the two classes that can be described with the logistic function."
   ]
  },
  {
   "cell_type": "code",
   "execution_count": 26,
   "metadata": {
    "collapsed": false
   },
   "outputs": [],
   "source": [
    "from sklearn.linear_model import LogisticRegression\n",
    "model = LogisticRegression"
   ]
  },
  {
   "cell_type": "markdown",
   "metadata": {},
   "source": [
    "**SVM** = better definition of 'terrible'\n",
    " - lines can turn into non-linear shapes if you transform your data\n",
    " - the kernel trick: take the square of each number'\n",
    " - **RBF SVM**: radial-basis svm. Creating more complex shapes. Most popular kernel\n",
    " - SVM also tries to maximize the margins\n",
    " \n"
   ]
  },
  {
   "cell_type": "code",
   "execution_count": 29,
   "metadata": {
    "collapsed": true
   },
   "outputs": [],
   "source": [
    "from sklearn.svm import LinearSVC\n",
    "model = LinearSVC"
   ]
  },
  {
   "cell_type": "markdown",
   "metadata": {},
   "source": [
    "**KNN**\n",
    "- What do similar cases look like?\n",
    "- k = how many? \n",
    "- Tie-breaking \n"
   ]
  },
  {
   "cell_type": "code",
   "execution_count": 27,
   "metadata": {
    "collapsed": true
   },
   "outputs": [],
   "source": [
    "from sklearn.neighbors import NearestNeighbors"
   ]
  },
  {
   "cell_type": "markdown",
   "metadata": {},
   "source": [
    "** Decision Tree learners**\n",
    "- Make a flow chart of it\n",
    "- In higher dimensions\n",
    "- Prone to overfitting\n",
    "- Use [Pydot](https://github.com/erocarrera/pydot)"
   ]
  },
  {
   "cell_type": "code",
   "execution_count": 30,
   "metadata": {
    "collapsed": true
   },
   "outputs": [],
   "source": [
    "from sklearn.tree import DecisionTreeClassifier\n",
    "model = DecisionTreeClassifier"
   ]
  },
  {
   "cell_type": "markdown",
   "metadata": {},
   "source": [
    "``` python\n",
    "import pydot\n",
    "sklearn.tree.export_graphviz() + pydot\n",
    "```"
   ]
  },
  {
   "cell_type": "markdown",
   "metadata": {},
   "source": [
    "** Ensemble Model**: deals with overfitting problems\n",
    "\n",
    "Bagging:\n",
    "- Split training set\n",
    "- Train one model each\n",
    "- Models 'vote'\n",
    "- Sum of the decision boundaries of its components\n",
    "\n",
    "Random Forest:\n",
    "- Like bagging\n",
    "- At each split randomly constrain features to choose from\n",
    "\n",
    "Extra trees:\n",
    "- For each split, make it random, non-optimally\n",
    "- Compensate by making a ton of trees\n",
    "\n",
    "Voting:\n",
    "- Combine a bunch of different models of your design, have them 'vote' on the correct answer\n",
    "- For example (KNN, SVM, Decision Tree) \n",
    "\n",
    "Boosting:\n",
    "- Train models in order, make the other ones focus on the points the earliest ones missed\n"
   ]
  },
  {
   "cell_type": "markdown",
   "metadata": {},
   "source": [
    "``` python\n",
    "from sklearn.ensemble import [insert model here]\n",
    "```"
   ]
  },
  {
   "cell_type": "markdown",
   "metadata": {},
   "source": [
    "**How Do I pick?**\n",
    "- Nonlinear decision boundary\n",
    "- Providing probability estimates\n",
    "- Tell how important a feature is to the model"
   ]
  },
  {
   "cell_type": "markdown",
   "metadata": {},
   "source": [
    " |Nonlinear boundary | Probability Estimate | Feature importance\n",
    " ---|--- | --- | --- \n",
    "Logistic Regression | Yes | Not really | no\n",
    "KNN | Yes | Sort of (% nearby points) | No\n",
    "Naive Bayes | Yes | Yes| No\n",
    "Decision Tree | Yes | No | Kinda\n",
    "Ensemble | Yes | kinda (% agreement) | kinda\n",
    "\n",
    "\n",
    "\n",
    " |Can I update? | Easy to parallel\n",
    "---|--- | --- \n",
    "Logistic regression | kinda | kinda\n",
    "SVM | kinda, depending on kernel | yes for some kernels, no for others\n",
    "KNN| yes | yes\n",
    "Naive Bayes | yes | yes\n",
    "Decision Tree | no | no (but it's really fast)\n",
    "Ensemble | kinda, by adding new models | yes\n",
    "Boosted | kinda, by adding new models | no"
   ]
  },
  {
   "cell_type": "markdown",
   "metadata": {},
   "source": [
    "**Other quirks:**\n",
    "\n",
    "SVM: Pick a kernel\n",
    "\n",
    "KNN: need to define what 'similarity' is in a good way. Fast to train, slow to classify\n",
    "\n",
    "Naive bayes: Have to choose the distribution. Can deal with missing data\n",
    "\n",
    "Decision Tree: Can provide literal flow charts, sensitive to outliers\n",
    "\n",
    "Ensemble: Less prone to overfitting\n",
    "\n",
    "Boosted: More parameters to tweak, most prone to overfit than normal ensembles"
   ]
  },
  {
   "cell_type": "markdown",
   "metadata": {},
   "source": [
    "<a id='dssg'></a>"
   ]
  },
  {
   "cell_type": "markdown",
   "metadata": {},
   "source": [
    "# Data Science for Social Good"
   ]
  },
  {
   "cell_type": "markdown",
   "metadata": {},
   "source": [
    "[Rayid Ghani](https://twitter.com/rayidghani)\n",
    "\n",
    "[DSSG Github](https://github.com/dssg)"
   ]
  },
  {
   "cell_type": "markdown",
   "metadata": {},
   "source": [
    "## Police brutality\n",
    "- Early Intervention System\n",
    "- Currently: Inaccurate and unreliable\n",
    "- Arrests/dispatches\n",
    "- Match data + interventions\n",
    "- Can we predict which dispatches can become adverse?\n",
    "\n",
    "## Lead Poisoning\n",
    "- Our defacto policy is that kids are lead detectors\n",
    "- Combine blood tests + lead inspections + open data about buildings\n",
    "- -6 to 12 months and predict kid's chance of lead poisoning\n",
    "- Can get inspectors to go before birth\n",
    "- Trying to implement this into the electronic medical records system\n",
    "\n",
    "## High School Dropouts\n",
    "- Schools don't know how to prioritize the kids that are at risk\n",
    "- Identifying kids not in 9th grade, but in 7th grade\n",
    "- Can start designing interventions that are targeted towards high-risk kids\n",
    "\n",
    "## EPA Hazardous Waste\n",
    "- Find out who is likely to violate in the future\n",
    "- The goal isn't really to find violations, it's actually to deter and change\n",
    "- You can be \"very efficient, but completely usless\"\n",
    "\n",
    "## Home Inspections\n",
    "- Can we find out the code violations that lead to blight?\n",
    "\n",
    "## Recitivism in the Criminal Justice system\n",
    "- Criminal Justice + ER + Mental Health intersections\n",
    "- Cycles happen at the intersections; and this happens before long stays in jail\n",
    "- If we can identify people early through homeless shelters/ERs so that we can do preventative work?\n"
   ]
  },
  {
   "cell_type": "markdown",
   "metadata": {},
   "source": [
    "## Problem Templates\n",
    "```\n",
    "* Can I detect ____ early?\n",
    "* Can I determine which ___ to prioritize?\n",
    "* Which policies do I modify to improve ____?\n",
    "* How much impact is ________ having?\n",
    "* Can I get data that helps me ?\n",
    "```\n",
    "\n",
    "## Common Challenges\n",
    "- Privacy\n",
    "- Security\n",
    "- Interpretability\n",
    "- Transparency\n",
    "- Fairness and Ethics\n",
    "\n",
    "## What we need\n",
    "- Problem formulation\n",
    "- Programming\n",
    "- Stats and ML\n",
    "- Econometrics & Social Science Methods\n",
    "- Experimental Design\n",
    "- Ethics and Legal Issues\n",
    "- Communication\n"
   ]
  },
  {
   "cell_type": "markdown",
   "metadata": {},
   "source": [
    "<a id='fizz_buzz'></a>"
   ]
  },
  {
   "cell_type": "markdown",
   "metadata": {},
   "source": [
    "# FizzBuzz with TensorFlow"
   ]
  },
  {
   "cell_type": "markdown",
   "metadata": {},
   "source": [
    "[Joel Grus](https://twitter.com/joelgrus)\n",
    "\n",
    "[Based on this blog post](http://joelgrus.com/2016/05/23/fizz-buzz-in-tensorflow/)"
   ]
  },
  {
   "cell_type": "markdown",
   "metadata": {},
   "source": [
    "\n",
    "\"Write a program that prints the numbers from 1 to 100. But for multiples of three print “Fizz” instead of the number and for the multiples of five print “Buzz”. For numbers which are multiples of both three and five print “FizzBuzz”.\"\n"
   ]
  },
  {
   "cell_type": "markdown",
   "metadata": {},
   "source": [
    "## Outputs\n",
    "1. Output number\n",
    "2. Output fizz\n",
    "3. Output buzz\n",
    "4. Output fizzbuzz\n",
    "\n",
    "### Feature selection:\n",
    "1. Divisible by 3\n",
    "\n",
    "2. Divisible by 5\n"
   ]
  },
  {
   "cell_type": "code",
   "execution_count": 36,
   "metadata": {
    "collapsed": true
   },
   "outputs": [],
   "source": [
    "import numpy\n",
    "def x(i):\n",
    "    return np.array([1, i% 3 ==0, i%5 ==0])"
   ]
  },
  {
   "cell_type": "markdown",
   "metadata": {},
   "source": [
    "**What if we aren't that clever?**\n",
    "\n",
    "Set of numbers in binary encoding, say 10 digits up to 1023"
   ]
  },
  {
   "cell_type": "markdown",
   "metadata": {},
   "source": [
    "So train on 101-1023, then use 1-100 as test set."
   ]
  },
  {
   "cell_type": "markdown",
   "metadata": {},
   "source": [
    "**Neural nets:**\n",
    "\n",
    "- Inputs (multiply by weights) ->  Hidden layer 1 (do computation) (apply an activation) -> output\n",
    "\n",
    "** Solving**\n",
    "- Using Tensorflow\n",
    "- Using Keras\n",
    "    * Standard import\n",
    "    * List layer\n",
    "    * Compile model\n",
    "    * Train the model\n",
    "    \n",
    "- Linear regression is a neural network with no hidden layers\n",
    "- A \"dense layer\" is just lineaer regression\n",
    "- Binary input isn't good enough; decimal makes it easy whether or not it's divisible by 5\n",
    "    * gets buzz right\n",
    "- Logistic regression is a neural net with no hidden layers and a sigmoid activation function\n",
    "\n",
    "- Decimal encoding is really good at 'divisible by 5' and terrible at everything else. Back to binary.\n",
    "\n",
    "- Train neural network by # of hidden units\n",
    "    * at 25 hidden units, it gets pretty good, then starts overfitting to the training set\n",
    "\n",
    "- Deep Learning\n",
    "    * add another hidden layer with some dropouts\n",
    "    * with 2000X2000 layers, it mostly works\n",
    "    \n",
    "** How does this work?**\n",
    "- 25-hidden-neuron shallow net has simplest interesting model. Gets all the divisible by 15 right.\n",
    "    * Which inputs produce largest \"fizz buzz\" values?\n",
    "    * Last column only needs to be larger than other columns\n",
    "    * Pairs of numbers that differ by 120 produce similar outputs\n",
    "    * If two numbers differ by a multiple of 15, same output\n",
    "    * If a network could ignore differences that are multiples of 15 would be a good start\n",
    "    * Then only have to learn each equivalence class\n",
    "- Which outputs are closest to the output for 450?\n",
    "    * Look at the binary representations\n",
    "    * There's a lot of bit flips that end up being multiples of 15\n",
    "    * If a network treats those bits the same, the network will do the same thing on those things\n",
    "    * Output of last dense layer (+8 -128)\n",
    "    * Output of first dense layer (+8 -128) learning to ignore 120 differences\n",
    "    * Also suggests why binary enconding does better\n",
    "    \n",
    "    \n",
    "** Lessons Learned**\n",
    "- Feature selection is important\n",
    "- Stupid problems sometimes contain subtleties\n",
    "- Sometimes 'blackbox models' can reveal such subtleties\n",
    "\n",
    "[Github](https://github.com/joelgrus/fizz-buzz-tensorflow)"
   ]
  },
  {
   "cell_type": "markdown",
   "metadata": {},
   "source": [
    "Go look at:\n",
    "- [LSTM](https://www.tensorflow.org/versions/r0.10/tutorials/recurrent/index.html)\n"
   ]
  },
  {
   "cell_type": "markdown",
   "metadata": {},
   "source": [
    "<a id ='pyglm'></a>"
   ]
  },
  {
   "cell_type": "markdown",
   "metadata": {},
   "source": [
    "# Pyglmnet"
   ]
  },
  {
   "cell_type": "markdown",
   "metadata": {},
   "source": [
    "[Pavan Ramkumar](http://pavanramkumar.github.io/)\n",
    "\n",
    "[Tutorial here](http://pavanramkumar.github.io/pyglmnet/tutorial.html)"
   ]
  },
  {
   "cell_type": "markdown",
   "metadata": {},
   "source": [
    "- Generalized linear models encompass a broad class of models\n",
    "- Elastic net is an excellent algorithm for regularization\n",
    "- Scikit-learn only has implementation of linear and logistic models\n",
    "- Often want to model spike counts (modelled as poisson process)\n",
    "- To fit the paremeters in a linear regression, we minimize the mean squared loss\n",
    "- Negative log-likelihood function identical to mean-square loss\n",
    "- To go from linear regression to GLM (replace normal distribution with exponential family + pointwise nonlinearity)\n",
    "\n",
    "\n",
    "** Example: Poisson Regression**\n",
    "\n",
    "We assume:\n",
    "1. Nonlinearity\n",
    "2. Noise distribution\n"
   ]
  },
  {
   "cell_type": "markdown",
   "metadata": {},
   "source": [
    "- Regularization\n",
    "- Ridge Regression\n",
    "    * Good for problems with lots of parameters\n",
    "    * Doens't work well when only a few features are predictive\n",
    "- Lasso Regression\n",
    "\n",
    "**Elastic net takes the best of both worlds!**\n",
    "\n",
    "- Elastic net regression\n",
    "    * Active set\n",
    "    * Cyclic coordinate descent with Newton update\n",
    "    * Theano\n",
    "    * Tensorflow\n",
    "\n",
    "- Optimize penalized NLL with gradient desceint.\n",
    "- Optimize better with active set + coordinate descent + Newton update\n",
    "- Use sympy for calculus or use theano"
   ]
  },
  {
   "cell_type": "markdown",
   "metadata": {},
   "source": [
    "<a id='sklearn_pipeline'></a>"
   ]
  },
  {
   "cell_type": "markdown",
   "metadata": {},
   "source": [
    "# ML using Scikit-learn pipelines\n",
    "Kevin Goetsch"
   ]
  },
  {
   "cell_type": "code",
   "execution_count": 45,
   "metadata": {
    "collapsed": false
   },
   "outputs": [],
   "source": [
    "import sklearn"
   ]
  },
  {
   "cell_type": "markdown",
   "metadata": {},
   "source": [
    "**What are pipelines?**\n",
    "- Container of steps\n",
    "    * Transformer\n",
    "    * Estimator\n",
    "    * Pipeline\n",
    "    * FeatureUnion\n",
    "- Used to package a model\n",
    "\n",
    "** Building blocks of sklearn pipelines** \n",
    "\n",
    "- `Pipeline` routs output of `transformer` as input into `estimator`\n",
    "- `Featureunion` joins the results of both pipeline outputs\n",
    "\n",
    "** Why pipelines ?**\n",
    "- transformations written out at once\n",
    "- easy to swap out pieces\n",
    "- readability\n",
    "- keeps intermediate steps together"
   ]
  },
  {
   "cell_type": "markdown",
   "metadata": {},
   "source": [
    "** What is a transformer?**\n",
    "```\n",
    "transform (x, [y])\n",
    "```\n",
    "- applies transformations on X\n",
    "```\n",
    "fit (x, [y])\n",
    "```\n",
    "- applies fit logic\n",
    "\n",
    "Calling `transform` on the transformer is identical to manually subselecting target factor.\n",
    "\n",
    "** What is an estimator?**\n",
    "\n",
    "Any sklearn objects which make predictions\n",
    "\n",
    "** What is a pipeline?**\n",
    "\n",
    "Pipeline of transforms with a final estimator\n",
    "\n",
    "** What's a feature union ?**\n",
    "\n",
    "Horizontal pipeline.\n",
    "\n"
   ]
  },
  {
   "cell_type": "markdown",
   "metadata": {},
   "source": [
    "** DS Lifecycle **\n",
    "\n",
    "*Feature Engineering *\n",
    "\n",
    "- Reuse transformers\n",
    "- Apply identical transformations to training and test\n",
    "\n",
    "*Ensemblage* = combining the output of multiple pipelines\n",
    "\n",
    "*Model Selection*\n",
    "- Track interactions + hierarchy\n",
    "- Easy model stacking\n",
    "- No tracking intermediate data\n",
    "\n",
    "``` python\n",
    "joblib.dump(pipeline, 'file.pkl')\n",
    "```\n",
    "\n",
    "*Reloading*\n",
    "- can see what parameters went into each step\n",
    "- Gridsearch can tune hyperparameters in featureunion"
   ]
  },
  {
   "cell_type": "markdown",
   "metadata": {},
   "source": [
    "<a id='l_talks'></a>"
   ]
  },
  {
   "cell_type": "markdown",
   "metadata": {},
   "source": [
    "# Lightning talks"
   ]
  },
  {
   "cell_type": "markdown",
   "metadata": {},
   "source": [
    "** RMarkdown** \n",
    "- Like Rjupyter but better\n",
    "\n",
    "[Rcloud is cool](http://rcloud.social/index.html)\n",
    "\n",
    "** Corn **\n",
    "- Crop data + weather data\n",
    "\n",
    "** Dicompyler **\n",
    "- [Aditya Panchal](https://www.linkedin.com/in/bastula)\n",
    "- [dicompyler](https://pypi.python.org/pypi/dicompyler)\n",
    "- [dicompyler](https://github.com/dicompyler/dicompyler-core)\n",
    "- Take cat scan data + dose + statistics\n",
    "\n",
    "** [conda-forge](https://conda-forge.github.io/) easter eggs **\n",
    "- [Jonathan J. Helmus](http://www.nmrglue.com/jhelmus/)\n",
    "- Collection of recipes, build infrastructure, and packages\n",
    "- builds are done on CI services\n",
    "``` python\n",
    "conda install -c conda-forge tensorflow \n",
    "```\n",
    "- Conda 1.5\n",
    "- True and false weren't added until 2.3\n",
    "- No exit command\n",
    "\n",
    "**Data Ethics **\n",
    "- [@herdingbats](https://twitter.com/herdingbats)\n",
    "- tmcgovern@oreilly.com\n",
    "- Not law and not privacy\n",
    "- Ethics is about the design, law is about the application\n",
    "- We have imperfect data\n",
    "- If you're not making things better, you're making things work \n",
    "- Power/Surveilance\n",
    "- Privacy \"the right to be ignored\" ~ Louis Brandeis and Samuel Warren\n",
    "- either hypervisible or ignored: the poor/rich\n",
    "- Ethical problems are revealed in the way we treat the most vulnerable.\n",
    "- Ongoing finegrained consent\n",
    "- Designing for fairness in the age of algorithms\n",
    "\n",
    "** Safia and nteract **\n",
    "- [nteract](https://github.com/nteract)\n",
    "- Tenants\n",
    "    * composability\n",
    "    * simplicity\n",
    "    * transparency\n",
    "    * kind community\n",
    "- Open notebooks from the file explorer\n",
    "- React components\n",
    "- Git integration \n",
    "- Real-time collaboration\n",
    "\n",
    "** Christy Comp Bio @ Field Museum **\n",
    "- [R package 'ape'](https://cran.r-project.org/web/packages/ape/index.html)\n",
    "- currently working on interactive visualization of phylogenetic tree for python\n",
    "- [Ivy](http://www.reelab.net/ivy/)\n",
    "\n",
    "** Problems with jupyter**\n",
    "- Long running processes lock up Jupyter\n",
    "- Use async calls\n",
    "``` python\n",
    "from multiproessing.pool import ThreadPool\n",
    "pool = ThreadPool(4)\n",
    "pool.apply_async()\n",
    "```\n",
    "- Not getting performance, able to do an asynchronous process\n",
    "- `apply_async` has a callback function\n",
    "```python\n",
    "from slack import slack_msg\n",
    "```\n",
    "- for callback - can do a lambda function that calls a slack message\n",
    "``` python\n",
    "import smtplib\n",
    "```\n",
    "- Send yourself an email or text \n",
    "\n",
    "**Bob: Geopandas **\n",
    "- Adding geographic data to pandas\n",
    "- [Geopandas](http://geopandas.org/)\n",
    "- [Github repo with examples](https://github.com/bobhaffner/2016_chi_pydata_lightning_talks)\n",
    "\n",
    "** [Elizabeth Wickes](http://twitter.com/elliewix )**\n",
    "- Rules of crap\n",
    "    * know where it is\n",
    "    * know how your crap works\n",
    "    * make metacrap to understand it\n",
    "    * preserve your crap\n",
    "    * name your crap with meaningful crap\n",
    "    \n",
    "** Excel is real**\n",
    "- There are many people who still love and use Excel\n",
    "\n",
    "**Jose: figuring out a file format**\n",
    "- 2009-2015 trading data\n",
    "- 6 million messages/day in 2009\n",
    "- 60 million messages/day in 2015\n",
    "- [fixtools](https://github.com/maheshsingapore/fixtools)\n",
    "\n",
    "**I'm not crazy**\n",
    "- Building everything from source\n",
    "- Keeping source separate from build\n",
    "- Can see all the build artefacts\n",
    "- Writing own virtualenv for zsh\n"
   ]
  },
  {
   "cell_type": "code",
   "execution_count": null,
   "metadata": {
    "collapsed": true
   },
   "outputs": [],
   "source": []
  }
 ],
 "metadata": {
  "kernelspec": {
   "display_name": "Python 3",
   "language": "python",
   "name": "python3"
  },
  "language_info": {
   "codemirror_mode": {
    "name": "ipython",
    "version": 3
   },
   "file_extension": ".py",
   "mimetype": "text/x-python",
   "name": "python",
   "nbconvert_exporter": "python",
   "pygments_lexer": "ipython3",
   "version": "3.5.1"
  }
 },
 "nbformat": 4,
 "nbformat_minor": 0
}
