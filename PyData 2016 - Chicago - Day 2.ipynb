{
 "cells": [
  {
   "cell_type": "markdown",
   "metadata": {
    "collapsed": true
   },
   "source": [
    "# Table of Contents"
   ]
  },
  {
   "cell_type": "markdown",
   "metadata": {},
   "source": [
    "* [1. Keynote: Scaling Human Learning](#scaling_human_learning)\n",
    "* [2. Deconstructing Feather](#feather_deconstruction)\n",
    "* [3. Microsoft AI](#microsoft_ai)\n",
    "* [4. Explaining Classification Algorithms](#explaining_classification)"
   ]
  },
  {
   "cell_type": "markdown",
   "metadata": {},
   "source": [
    "<a id='scaling_human_learning'></a>"
   ]
  },
  {
   "cell_type": "markdown",
   "metadata": {},
   "source": [
    "# Keynote: Scaling Human Learning"
   ]
  },
  {
   "cell_type": "markdown",
   "metadata": {},
   "source": [
    "[Katy Huff](https://twitter.com/katyhuff)\n",
    "\n",
    "Nuclear Engineer @ UIUC"
   ]
  },
  {
   "cell_type": "markdown",
   "metadata": {},
   "source": [
    "- [The Hacker Within](http://www.thehackerwithin.org/)\n",
    "    * Models that have worked\n",
    "    * Models that have failed\n",
    "        * single point-of-failure\n",
    "\n",
    "- [Software Carpentry](https://swcarpentry.github.io/python-novice-inflammation/)\n",
    "\n",
    "- [Data Carpentry](http://www.datacarpentry.org/)\n",
    "\n",
    "- Tools\n",
    "    * [Binder](http://mybinder.org/)\n",
    "    * [Data Science Textbook](http://www.inferentialthinking.com/)\n",
    "    * Effective Computation in Physics\n",
    "\n",
    "- Why do it?\n",
    "   * community\n",
    "   * travel\n",
    "   * teaching experience\n",
    "   * felt need\n",
    "\n",
    "- What we should do?\n",
    "    * Lower the barrier, not the standards\n",
    "    * New Dev instructions\n",
    "    * Document well\n",
    "    * Curate low hanging fruit\n",
    "    * Targeted sprints\n",
    "    * Appoint ambassador\n",
    "    * Consider Users Conferences"
   ]
  },
  {
   "cell_type": "markdown",
   "metadata": {},
   "source": [
    "<a id='feather_deconstruction'></a>"
   ]
  },
  {
   "cell_type": "markdown",
   "metadata": {},
   "source": [
    "# Feather"
   ]
  },
  {
   "cell_type": "markdown",
   "metadata": {},
   "source": [
    "[Bill Lattner](https://twitter.com/wlattner)\n",
    "\n",
    "[Feather](https://github.com/wesm/feather)"
   ]
  },
  {
   "cell_type": "markdown",
   "metadata": {},
   "source": [
    "- Exchange tabular data between Python, R, and others\n",
    "- Fast read/write\n",
    "- Represent categorical features\n",
    "- it's about the metadata"
   ]
  },
  {
   "cell_type": "markdown",
   "metadata": {},
   "source": [
    "- memory access cost depends on both location + predictability\n",
    "- sequential access FTW\n",
    "\n",
    "**Idea**\n",
    "- on-disk representation should be similar to in-memory representation\n",
    "- columnar layout is good fit for analytic workflows\n",
    "    * columnar layout from [arrow](http://arrow.apache.org/)\n",
    "    \n",
    "    \n",
    "**Simplicity**\n",
    "```python\n",
    "feather.read_dataframe(path, columns=None)\n",
    "```"
   ]
  },
  {
   "cell_type": "markdown",
   "metadata": {},
   "source": [
    "- each column is serialized into a dataframe\n",
    "- bitmask of nulls\n",
    "- values\n",
    "- looks liike dataframe in R\n",
    "- no current in-place concatenations\n",
    "- how does it handle escape characters\n",
    "- \n",
    "\n",
    "** Future of feather **\n",
    "\n",
    "- in-place operations\n",
    "- zero parsing or copying to Pandas memory\n",
    "- [mmap](https://pymotw.com/2/mmap/) the feather file\n",
    "- input to sklearn or statsmodels\n",
    "- output from PostgreSQL\n",
    "\n",
    "** Use case **\n",
    "- passing data between R and Python in computation\n",
    "- As part of a Luigi Pipeline"
   ]
  },
  {
   "cell_type": "markdown",
   "metadata": {
    "collapsed": false
   },
   "source": [
    "<a 'microsoft_ai'></a>"
   ]
  },
  {
   "cell_type": "markdown",
   "metadata": {},
   "source": [
    "# Microsoft Cognitive Services"
   ]
  },
  {
   "cell_type": "markdown",
   "metadata": {},
   "source": [
    "[David Girard](http://www.DavidGiard.com)"
   ]
  },
  {
   "cell_type": "markdown",
   "metadata": {},
   "source": [
    "** Examples**\n",
    "- [What Dog](https://www.what-dog.net/)\n",
    "- [How-Old](https://how-old.net/)\n",
    "\n",
    "\n",
    "[Cognitive Services API](https://www.microsoft.com/cognitive-services)\n",
    "- Times per month\n",
    "- Times per minute\n"
   ]
  },
  {
   "cell_type": "markdown",
   "metadata": {},
   "source": [
    "[Jupyter Notebook Demo](https://github.com/Microsoft/Cognitive-Vision-Python)"
   ]
  },
  {
   "cell_type": "markdown",
   "metadata": {},
   "source": [
    "[Demos](https://github.com/DavidGiard/CognitiveSvcsDemos)"
   ]
  },
  {
   "cell_type": "markdown",
   "metadata": {},
   "source": [
    "<a id='explaining_classification'></a>"
   ]
  },
  {
   "cell_type": "markdown",
   "metadata": {},
   "source": [
    "# Explaining classification algorithms"
   ]
  },
  {
   "cell_type": "markdown",
   "metadata": {},
   "source": [
    "[Brian Lange](https://twitter.com/bjlange)"
   ]
  },
  {
   "cell_type": "markdown",
   "metadata": {},
   "source": [
    "## Popular examples\n",
    "- Sorting Hat\n",
    "- Spam filter"
   ]
  },
  {
   "cell_type": "markdown",
   "metadata": {},
   "source": [
    "## Notes\n",
    "- Need labelled data for training\n",
    "- feature = dimension - column = attribute \n",
    "- class= categorization\n",
    "\n",
    "**Caveat**\n",
    "- Choosing good features or getting more data will help more than changing algorithms\n",
    "\n",
    "*How do we find the least terrible line using gradient descent?*"
   ]
  },
  {
   "cell_type": "markdown",
   "metadata": {},
   "source": [
    "## Implementing a spam filter"
   ]
  },
  {
   "cell_type": "code",
   "execution_count": 15,
   "metadata": {
    "collapsed": false
   },
   "outputs": [],
   "source": [
    "import numpy as np\n",
    "import sklearn"
   ]
  },
  {
   "cell_type": "code",
   "execution_count": 16,
   "metadata": {
    "collapsed": true
   },
   "outputs": [],
   "source": [
    "x = np.array([[0 , 0.1], [3, 0.2], [5, 0.1]])\n",
    "y = np.array([1,2,1])"
   ]
  },
  {
   "cell_type": "code",
   "execution_count": 17,
   "metadata": {
    "collapsed": false
   },
   "outputs": [
    {
     "name": "stderr",
     "output_type": "stream",
     "text": [
      "/Library/Frameworks/Python.framework/Versions/3.5/lib/python3.5/site-packages/sklearn/discriminant_analysis.py:387: UserWarning: Variables are collinear.\n",
      "  warnings.warn(\"Variables are collinear.\")\n"
     ]
    },
    {
     "data": {
      "text/plain": [
       "LinearDiscriminantAnalysis(n_components=None, priors=None, shrinkage=None,\n",
       "              solver='svd', store_covariance=False, tol=0.0001)"
      ]
     },
     "execution_count": 17,
     "metadata": {},
     "output_type": "execute_result"
    }
   ],
   "source": [
    "from sklearn.discriminant_analysis import LinearDiscriminantAnalysis\n",
    "model = LinearDiscriminantAnalysis()\n",
    "model.fit(x,y)"
   ]
  },
  {
   "cell_type": "code",
   "execution_count": 18,
   "metadata": {
    "collapsed": false
   },
   "outputs": [
    {
     "name": "stdout",
     "output_type": "stream",
     "text": [
      "[1]\n"
     ]
    },
    {
     "name": "stderr",
     "output_type": "stream",
     "text": [
      "/Library/Frameworks/Python.framework/Versions/3.5/lib/python3.5/site-packages/sklearn/utils/validation.py:386: DeprecationWarning: Passing 1d arrays as data is deprecated in 0.17 and willraise ValueError in 0.19. Reshape your data either using X.reshape(-1, 1) if your data has a single feature or X.reshape(1, -1) if it contains a single sample.\n",
      "  DeprecationWarning)\n"
     ]
    }
   ],
   "source": [
    "new_point = np.array([1, .3])\n",
    "print(model.predict(new_point))"
   ]
  },
  {
   "cell_type": "markdown",
   "metadata": {},
   "source": [
    "Most of the time, we don't use a Linear Discriminant Classifier. Other models include logistic regression. When there's a gradient between the two classes that can be described with the logistic function."
   ]
  },
  {
   "cell_type": "code",
   "execution_count": 26,
   "metadata": {
    "collapsed": false
   },
   "outputs": [],
   "source": [
    "from sklearn.linear_model import LogisticRegression\n",
    "model = LogisticRegression"
   ]
  },
  {
   "cell_type": "markdown",
   "metadata": {},
   "source": [
    "**SVM** = better definition of 'terrible'\n",
    " - lines can turn into non-linear shapes if you transform your data\n",
    " - the kernel trick: take the square of each number'\n",
    " - **RBF SVM**: radial-basis svm. Creating more complex shapes. Most popular kernel\n",
    " - SVM also tries to maximize the margins\n",
    " \n"
   ]
  },
  {
   "cell_type": "code",
   "execution_count": 29,
   "metadata": {
    "collapsed": true
   },
   "outputs": [],
   "source": [
    "from sklearn.svm import LinearSVC\n",
    "model = LinearSVC"
   ]
  },
  {
   "cell_type": "markdown",
   "metadata": {},
   "source": [
    "**KNN**\n",
    "- What do similar cases look like?\n",
    "- k = how many? \n",
    "- Tie-breaking \n"
   ]
  },
  {
   "cell_type": "code",
   "execution_count": 27,
   "metadata": {
    "collapsed": true
   },
   "outputs": [],
   "source": [
    "from sklearn.neighbors import NearestNeighbors"
   ]
  },
  {
   "cell_type": "markdown",
   "metadata": {},
   "source": [
    "** Decision Tree learners**\n",
    "- Make a flow chart of it\n",
    "- In higher dimensions\n",
    "- Prone to overfitting\n",
    "- Use [Pydot](https://github.com/erocarrera/pydot)"
   ]
  },
  {
   "cell_type": "code",
   "execution_count": 30,
   "metadata": {
    "collapsed": true
   },
   "outputs": [],
   "source": [
    "from sklearn.tree import DecisionTreeClassifier\n",
    "model = DecisionTreeClassifier"
   ]
  },
  {
   "cell_type": "markdown",
   "metadata": {},
   "source": [
    "``` python\n",
    "import pydot\n",
    "sklearn.tree.export_graphviz() + pydot\n",
    "```"
   ]
  },
  {
   "cell_type": "markdown",
   "metadata": {},
   "source": [
    "** Ensemble Model**: deals with overfitting problems\n",
    "\n",
    "Bagging:\n",
    "- Split training set\n",
    "- Train one model each\n",
    "- Models 'vote'\n",
    "- Sum of the decision boundaries of its components\n",
    "\n",
    "Random Forest:\n",
    "- Like bagging\n",
    "- At each split randomly constrain features to choose from\n",
    "\n",
    "Extra trees:\n",
    "- For each split, make it random, non-optimally\n",
    "- Compensate by making a ton of trees\n",
    "\n",
    "Voting:\n",
    "- Combine a bunch of different models of your design, have them 'vote' on the correct answer\n",
    "- For example (KNN, SVM, Decision Tree) \n",
    "\n",
    "Boosting:\n",
    "- Train models in order, make the other ones focus on the points the earliest ones missed\n"
   ]
  },
  {
   "cell_type": "markdown",
   "metadata": {},
   "source": [
    "``` python\n",
    "from sklearn.ensemble import [insert model here]\n",
    "```"
   ]
  },
  {
   "cell_type": "markdown",
   "metadata": {},
   "source": [
    "**How Do I pick?**\n",
    "- Nonlinear decision boundary\n",
    "- Providing probability estimates\n",
    "- Tell how important a feature is to the model"
   ]
  },
  {
   "cell_type": "markdown",
   "metadata": {},
   "source": [
    " |Nonlinear boundary | Probability Estimate | Feature importance\n",
    " ---|--- | --- | --- \n",
    "Logistic Regression | Yes | Not really | no\n",
    "KNN | Yes | Sort of (% nearby points) | No\n",
    "Naive Bayes | Yes | Yes| No\n",
    "Decision Tree | Yes | No | Kinda\n",
    "Ensemble | Yes | kinda (% agreement) | kinda\n",
    "\n",
    " |Can I update? | Easy to parallel\n",
    "---|--- | --- \n",
    "Logistic regression | kinda | kinda\n",
    "SVM | kinda, depending on kernel | yes for some kernels, no for others\n",
    "KNN| yes | yes\n",
    "Naive Bayes | yes | yes\n",
    "Decision Tree | no | no (but it's really fast)\n",
    "Ensemble | kinda, by adding new models | yes\n",
    "Boosted | kinda, by adding new models | no"
   ]
  },
  {
   "cell_type": "markdown",
   "metadata": {},
   "source": [
    "***Other quirks:**\n",
    "\n",
    "SVM: Pick a kernel\n",
    "\n",
    "KNN: need to define what 'similarity' is in a good way. Fast to train, slow to classify\n",
    "\n",
    "Naive bayes: Have to choose the distribution. Can deal with missing data\n",
    "\n",
    "Decision Tree: Can provide literal flow charts, sensitive to outliers\n",
    "\n",
    "Ensemble: Less prone to overfitting\n",
    "\n",
    "Boosted: More parameters to tweak, most prone to overfit than normal ensembles"
   ]
  },
  {
   "cell_type": "code",
   "execution_count": null,
   "metadata": {
    "collapsed": true
   },
   "outputs": [],
   "source": []
  }
 ],
 "metadata": {
  "kernelspec": {
   "display_name": "Python 3",
   "language": "python",
   "name": "python3"
  },
  "language_info": {
   "codemirror_mode": {
    "name": "ipython",
    "version": 3
   },
   "file_extension": ".py",
   "mimetype": "text/x-python",
   "name": "python",
   "nbconvert_exporter": "python",
   "pygments_lexer": "ipython3",
   "version": "3.5.1"
  }
 },
 "nbformat": 4,
 "nbformat_minor": 0
}
