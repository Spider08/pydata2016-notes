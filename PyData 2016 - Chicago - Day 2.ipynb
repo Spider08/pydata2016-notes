{
 "cells": [
  {
   "cell_type": "markdown",
   "metadata": {
    "collapsed": true
   },
   "source": [
    "# Table of Contents"
   ]
  },
  {
   "cell_type": "markdown",
   "metadata": {},
   "source": [
    "* [1. Keynote: Scaling Human Learning](#scaling_human_learning)\n",
    "* [2. Deconstructing Feather](#feather_deconstruction)\n",
    "* [3. Microsoft AI](#microsoft_ai)\n",
    "* [4. Explaining Classification Algorithms](#explaining_classification)"
   ]
  },
  {
   "cell_type": "markdown",
   "metadata": {},
   "source": [
    "<a id='scaling_human_learning'></a>"
   ]
  },
  {
   "cell_type": "markdown",
   "metadata": {},
   "source": [
    "# Keynote: Scaling Human Learning"
   ]
  },
  {
   "cell_type": "markdown",
   "metadata": {},
   "source": [
    "[Katy Huff](https://twitter.com/katyhuff)\n",
    "\n",
    "Nuclear Engineer @ UIUC"
   ]
  },
  {
   "cell_type": "markdown",
   "metadata": {},
   "source": [
    "- [The Hacker Within](http://www.thehackerwithin.org/)\n",
    "    * Models that have worked\n",
    "    * Models that have failed\n",
    "        * single point-of-failure\n",
    "\n",
    "- [Software Carpentry](https://swcarpentry.github.io/python-novice-inflammation/)\n",
    "\n",
    "- [Data Carpentry](http://www.datacarpentry.org/)\n",
    "\n",
    "- Tools\n",
    "    * [Binder](http://mybinder.org/)\n",
    "    * [Data Science Textbook](http://www.inferentialthinking.com/)\n",
    "    * Effective Computation in Physics\n",
    "\n",
    "- Why do it?\n",
    "   * community\n",
    "   * travel\n",
    "   * teaching experience\n",
    "   * felt need\n",
    "\n",
    "- What we should do?\n",
    "    * Lower the barrier, not the standards\n",
    "    * New Dev instructions\n",
    "    * Document well\n",
    "    * Curate low hanging fruit\n",
    "    * Targeted sprints\n",
    "    * Appoint ambassador\n",
    "    * Consider Users Conferences"
   ]
  },
  {
   "cell_type": "markdown",
   "metadata": {},
   "source": [
    "<a id='feather_deconstruction'></a>"
   ]
  },
  {
   "cell_type": "markdown",
   "metadata": {},
   "source": [
    "# Feather"
   ]
  },
  {
   "cell_type": "markdown",
   "metadata": {},
   "source": [
    "[Bill Lattner](https://twitter.com/wlattner)\n",
    "\n",
    "[Feather](https://github.com/wesm/feather)"
   ]
  },
  {
   "cell_type": "markdown",
   "metadata": {},
   "source": [
    "- Exchange tabular data between Python, R, and others\n",
    "- Fast read/write\n",
    "- Represent categorical features\n",
    "- it's about the metadata"
   ]
  },
  {
   "cell_type": "markdown",
   "metadata": {},
   "source": [
    "- memory access cost depends on both location + predictability\n",
    "- sequential access FTW\n",
    "\n",
    "**Idea**\n",
    "- on-disk representation should be similar to in-memory representation\n",
    "- columnar layout is good fit for analytic workflows\n",
    "    * columnar layout from [arrow](http://arrow.apache.org/)\n",
    "    \n",
    "    \n",
    "**Simplicity**\n",
    "```python\n",
    "feather.read_dataframe(path, columns=None)\n",
    "```"
   ]
  },
  {
   "cell_type": "markdown",
   "metadata": {},
   "source": [
    "- each column is serialized into a dataframe\n",
    "- bitmask of nulls\n",
    "- values\n",
    "- looks liike dataframe in R\n",
    "- no current in-place concatenations\n",
    "- how does it handle escape characters\n",
    "- \n",
    "\n",
    "** Future of feather **\n",
    "\n",
    "- in-place operations\n",
    "- zero parsing or copying to Pandas memory\n",
    "- [mmap](https://pymotw.com/2/mmap/) the feather file\n",
    "- input to sklearn or statsmodels\n",
    "- output from PostgreSQL\n",
    "\n",
    "** Use case **\n",
    "- passing data between R and Python in computation\n",
    "- As part of a Luigi Pipeline"
   ]
  },
  {
   "cell_type": "markdown",
   "metadata": {
    "collapsed": false
   },
   "source": [
    "<a 'microsoft_ai'></a>"
   ]
  },
  {
   "cell_type": "markdown",
   "metadata": {},
   "source": [
    "# Microsoft Cognitive Services"
   ]
  },
  {
   "cell_type": "markdown",
   "metadata": {},
   "source": [
    "[David Girard](http://www.DavidGiard.com)"
   ]
  },
  {
   "cell_type": "markdown",
   "metadata": {},
   "source": [
    "** Examples**\n",
    "- [What Dog](https://www.what-dog.net/)\n",
    "- [How-Old](https://how-old.net/)\n",
    "\n",
    "\n",
    "[Cognitive Services API](https://www.microsoft.com/cognitive-services)\n",
    "- Times per month\n",
    "- Times per minute\n"
   ]
  },
  {
   "cell_type": "markdown",
   "metadata": {},
   "source": [
    "[Jupyter Notebook Demo](https://github.com/Microsoft/Cognitive-Vision-Python)"
   ]
  },
  {
   "cell_type": "markdown",
   "metadata": {},
   "source": [
    "[Demos](https://github.com/DavidGiard/CognitiveSvcsDemos)"
   ]
  },
  {
   "cell_type": "markdown",
   "metadata": {},
   "source": [
    "<a id='explaining_classification'></a>"
   ]
  },
  {
   "cell_type": "markdown",
   "metadata": {},
   "source": [
    "# Explaining classification algorithms"
   ]
  },
  {
   "cell_type": "markdown",
   "metadata": {},
   "source": [
    "[Brian Lange](https://twitter.com/bjlange)"
   ]
  },
  {
   "cell_type": "code",
   "execution_count": null,
   "metadata": {
    "collapsed": true
   },
   "outputs": [],
   "source": []
  }
 ],
 "metadata": {
  "kernelspec": {
   "display_name": "Python 3",
   "language": "python",
   "name": "python3"
  },
  "language_info": {
   "codemirror_mode": {
    "name": "ipython",
    "version": 3
   },
   "file_extension": ".py",
   "mimetype": "text/x-python",
   "name": "python",
   "nbconvert_exporter": "python",
   "pygments_lexer": "ipython3",
   "version": "3.5.1"
  }
 },
 "nbformat": 4,
 "nbformat_minor": 0
}
