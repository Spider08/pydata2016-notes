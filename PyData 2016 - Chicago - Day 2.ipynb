{
 "cells": [
  {
   "cell_type": "markdown",
   "metadata": {
    "collapsed": true
   },
   "source": [
    "# Table of Contents"
   ]
  },
  {
   "cell_type": "markdown",
   "metadata": {},
   "source": [
    "* [1. Keynote: Scaling Human Learning](#scaling_human_learning)\n",
    "* [2. Deconstructing Feather](#feather_deconstruction)"
   ]
  },
  {
   "cell_type": "markdown",
   "metadata": {},
   "source": [
    "<a id='scaling_human_learning'></a>"
   ]
  },
  {
   "cell_type": "markdown",
   "metadata": {},
   "source": [
    "# Keynote: Scaling Human Learning"
   ]
  },
  {
   "cell_type": "markdown",
   "metadata": {},
   "source": [
    "[Katy Huff](https://twitter.com/katyhuff)\n",
    "\n",
    "Nuclear Engineer @ UIUC"
   ]
  },
  {
   "cell_type": "markdown",
   "metadata": {},
   "source": [
    "- [The Hacker Within](http://www.thehackerwithin.org/)\n",
    "    * Models that have worked\n",
    "    * Models that have failed\n",
    "        * single point-of-failure\n",
    "\n",
    "- [Software Carpentry](https://swcarpentry.github.io/python-novice-inflammation/)\n",
    "\n",
    "- [Data Carpentry](http://www.datacarpentry.org/)\n",
    "\n",
    "- Tools\n",
    "    * [Binder](http://mybinder.org/)\n",
    "    * [Data Science Textbook](http://www.inferentialthinking.com/)\n",
    "    * Effective Computation in Physics\n",
    "\n",
    "- Why do it?\n",
    "   * community\n",
    "   * travel\n",
    "   * teaching experience\n",
    "   * felt need\n",
    "\n",
    "- What we should do?\n",
    "    * Lower the barrier, not the standards\n",
    "    * New Dev instructions\n",
    "    * Document well\n",
    "    * Curate low hanging fruit\n",
    "    * Targeted sprints\n",
    "    * Appoint ambassador\n",
    "    * Consider Users Conferences"
   ]
  },
  {
   "cell_type": "markdown",
   "metadata": {},
   "source": [
    "<a id='feather_deconstruction'></a>"
   ]
  },
  {
   "cell_type": "code",
   "execution_count": null,
   "metadata": {
    "collapsed": true
   },
   "outputs": [],
   "source": []
  }
 ],
 "metadata": {
  "kernelspec": {
   "display_name": "Python 3",
   "language": "python",
   "name": "python3"
  },
  "language_info": {
   "codemirror_mode": {
    "name": "ipython",
    "version": 3
   },
   "file_extension": ".py",
   "mimetype": "text/x-python",
   "name": "python",
   "nbconvert_exporter": "python",
   "pygments_lexer": "ipython3",
   "version": "3.5.1"
  }
 },
 "nbformat": 4,
 "nbformat_minor": 0
}
