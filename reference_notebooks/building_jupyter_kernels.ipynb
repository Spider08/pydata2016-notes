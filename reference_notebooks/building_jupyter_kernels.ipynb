{
 "cells": [
  {
   "cell_type": "markdown",
   "metadata": {},
   "source": [
    "### Building Jupyter Kernels Using Simple Python Wrappers\n",
    "#### Safia Abdalla (@captainsafia)\n",
    "\n",
    "Hi, there! You've probably gotten to this Notebook via the tutorial I presented at PyData Chicago 2016. If not, be sure to check out the video for this talk on YouTube so that you have the right context. If you have, read on and enjoy this Notebook.\n",
    "\n",
    "In the talk, we covered the basic structure of the Jupyter Messaging Protocol. In this notebook, we are going to take the ideas that we covered and apply them in the development of a simple Jupyter Kernel for Bash command line. This is adapted from the work done by Jupyter developer, Thomas Kluyver in the [bash_kernel](https://github.com/takluyver/bash_kernel).\n",
    "\n",
    "To build this kernel, we will be subclassing the IPython `Kernel` class and overriding some of its default functions. Let's start off by importing the class from the IPython library."
   ]
  },
  {
   "cell_type": "code",
   "execution_count": 1,
   "metadata": {
    "collapsed": false
   },
   "outputs": [],
   "source": [
    "from ipykernel.kernelbase import Kernel"
   ]
  },
  {
   "cell_type": "markdown",
   "metadata": {},
   "source": [
    "Next we'll create a `BashKernel` class that subclasses the `Kernel` that we just imported. We'll set two default attributes on this class, the implementation name, implementation version, the langauge, and the language version.\n",
    "\n",
    "We'll use these variables to create a `banner` variable which stores the text that is displayed to the user on kernel start if they are using a console UI."
   ]
  },
  {
   "cell_type": "code",
   "execution_count": 2,
   "metadata": {
    "collapsed": true
   },
   "outputs": [],
   "source": [
    "class MyBashKernel(Kernel):\n",
    "  implementation = ''\n",
    "  implementation_version = ''\n",
    "  language = ''\n",
    "  language_version = ''\n",
    "  banner = language + language_version + '\\n'"
   ]
  },
  {
   "cell_type": "markdown",
   "metadata": {},
   "source": [
    "The next attribute that we will need to add is the `langauge_info` attribute. This stores information about the langauge in the form of a dictionary. If you've ever poked around the raw JSON of a notebook, you'll notice a `language_info` key which contains some information about the language the kernel that your notebook uses is associated with. We'll set this dictionary in our `MyBashKernel` class."
   ]
  },
  {
   "cell_type": "code",
   "execution_count": 3,
   "metadata": {
    "collapsed": false
   },
   "outputs": [],
   "source": [
    "class MyBashKernel(Kernel):\n",
    "  implementation = ''\n",
    "  implementation_version = ''\n",
    "  language = ''\n",
    "  language_version = ''\n",
    "  banner = language + language_version + '\\n'\n",
    "  language_info = {\n",
    "    'name': 'bash',\n",
    "    'codemirror_mode': 'shell',\n",
    "    'mimetype': 'text/x-sh',\n",
    "    'file_extension': '.sh'\n",
    "  }"
   ]
  },
  {
   "cell_type": "markdown",
   "metadata": {},
   "source": [
    "You'll not that the language_info dictionary provides information to CodeMirror, the code editor utilized by the Jupyter front-end about what syntax to use for code cells in this notebook. The language_info dictionary also specifies the file extension that should be used for files exported from this notebook.\n",
    "\n",
    "Let's start off by creating the `__init__` function for our class, this function will instantiate the `Kernel` parent class and initialize the connection to the Bash REPL using `pexpect`."
   ]
  },
  {
   "cell_type": "code",
   "execution_count": 4,
   "metadata": {
    "collapsed": true
   },
   "outputs": [],
   "source": [
    "def __init__(self, **kwargs):\n",
    "    Kernel.__init__(**kwargs)\n",
    "    self._start_bash()\n",
    "    \n",
    "def _start_bash(self):\n",
    "    from pexpect import replwrap, EOF\n",
    "    import signal\n",
    "    \n",
    "    sig = signal.signal(signal.SIGINT, signal.SIG_DFL)\n",
    "    try:\n",
    "        self.bash_wrapper = replwrap.bash()\n",
    "    finally:\n",
    "        signal.signal(signal.SIGINT, sig)"
   ]
  },
  {
   "cell_type": "markdown",
   "metadata": {},
   "source": [
    "Now that we've got our connection to the Bash REPL instantiated, we can move on to writing some of the logic for code execution. In order to do this, we will need to override the `do_execute` function, which as the name might suggest, handles what the kernel will do when sent a request to execute some code.\n",
    "\n",
    "This parameters passed to the function include the `code` that needs to executed, whether or not to display the output from the code exeuction (`silent`), whether to increment the execution counter after the code has been executed (`store_history`), what instructions from the user to run afterwards (`user_expressions`), and whether to accept input from the user (`allow_stdin`).\n",
    "\n",
    "The function returns a dictionary which might contain some of the following keys.\n",
    "\n",
    "```\n",
    "{\n",
    "  'status' : str,\n",
    "  'execution_count' : int,\n",
    "  'payload' : list(dict),\n",
    "  'user_expressions' : dict,\n",
    "  'ename' : str,\n",
    "  'evalue' : str,\n",
    "  'traceback' : list,\n",
    "}\n",
    "```\n",
    "\n",
    "`status` can either be \"OK\" or \"error\" or \"abort\". If `status` is \"OK\", the `execution_count` is incremented by 1. `payload` is a deprecated feature so for now, you can return an empty list. Finally, `user_expressions` should contain the result of executing any of the expressions passed in via the `user_expressions` parameter to the `do_execute` function.\n",
    "\n",
    "If the `status` is \"ERROR\", the error name (`ename`), error value (`evalue`), and error traceback (`traceback`) must be provided.\n",
    "\n",
    "We'll start off by checking to see if we are provided a `code` to execute. If not, we will return an empty payload with an \"OK\" status."
   ]
  },
  {
   "cell_type": "code",
   "execution_count": 5,
   "metadata": {
    "collapsed": false
   },
   "outputs": [],
   "source": [
    "def do_execute(self, code, silent, store_history=True, user_expressions=None, allow_stdin=False):\n",
    "  if not code.strip():\n",
    "    return {\n",
    "      'status': 'OK',\n",
    "      'execution_count': self.execution_count,\n",
    "      'payload': [],\n",
    "      'user_expressions': {}\n",
    "    }"
   ]
  },
  {
   "cell_type": "markdown",
   "metadata": {
    "collapsed": true
   },
   "source": [
    "Our reference to `self.execution_count` is valid in this case although we did not define such an attribute in our class definition because the call to the `__init__` on the parent `Kernel` class took care of initializing this variable.\n",
    "\n",
    "Now, if the user did provide us `code` to run, we will need to execute it using our connection to the Bash REPL made using `bash_wrapper`, so we'll add the following code to our `do_execute` function."
   ]
  },
  {
   "cell_type": "code",
   "execution_count": 6,
   "metadata": {
    "collapsed": true
   },
   "outputs": [],
   "source": [
    "def do_execute(self, code, silent, store_history=True, user_expressions=None, allow_stdin=False):\n",
    "    interrupted = False\n",
    "    try:\n",
    "        output = self.bashwrapper.run_command(code.rstrip(), timeout=None)\n",
    "    except KeyboardInterrupt:\n",
    "        self.bash_wrapper.child.sendintr()\n",
    "        interrupted = ____\n",
    "        self.bash_wrapper._expect_prompt()\n",
    "        output = self.bash_wrapper.child.before\n",
    "    except EOF:\n",
    "        output = self.bash_wrapper.child.before + 'Restarting Bash'\n",
    "        self._start_bash()\n"
   ]
  },
  {
   "cell_type": "markdown",
   "metadata": {},
   "source": [
    "In this code, we send our `code` for execution by the Bash REPL. If the user interrupts the command via the keyboard we send an interrupt signal to the REPL and reset the prompt. Alternatively, if the user sends an EOF signal by pressing Ctrl + D on the keyboard, we restart the Bash REPL. Now that we have executed the command, we will need to return the `output` back to the user. We'll only need to do this if the user has set `silent` to `False`. Let's go ahead add the logic for sending back the output from the kernel to the front-end."
   ]
  },
  {
   "cell_type": "code",
   "execution_count": 7,
   "metadata": {
    "collapsed": true
   },
   "outputs": [],
   "source": [
    "def do_execute(self, code, silent, store_history=True, user_expressions=None, allow_stdin=False):\n",
    "    if not _____:\n",
    "        stream_content = {'name': 'stdout', 'text': output}\n",
    "        self.send_response(self.iopub_socket, 'stream', stream_content)"
   ]
  },
  {
   "cell_type": "markdown",
   "metadata": {},
   "source": [
    "Believe it or not, these two lines are extremely powerful. We create a packaged `stdout` text response and send it via the iopub socket to the front-end.\n",
    "\n",
    "If the user interrupted the currently running command, we are going to want to return a different message with an \"abort\" `status`. We'll use that `interrupted` Boolean that we set earlier."
   ]
  },
  {
   "cell_type": "code",
   "execution_count": 8,
   "metadata": {
    "collapsed": true
   },
   "outputs": [],
   "source": [
    "def do_execute(self, code, silent, store_history=True, user_expressions=None, allow_stdin=False):\n",
    "    if interrupted:\n",
    "        return ____"
   ]
  },
  {
   "cell_type": "markdown",
   "metadata": {},
   "source": [
    "So far, so good! But there is one thing that we forgot to check for. Errors! What if the user enters a bad shell command, we'll need a way to respond to them with this. We can check if any errors occured by requesting the REPL execute a trivial command and seeing if it sends us back a response. If it doesn't, that means its hung up on an error from the previous command.\n",
    "\n",
    "The trivial command we will have the REPL execute is `echo $?`, which outputs 0 to the shell. If it doesn't work we will need to return an error response to the front-end."
   ]
  },
  {
   "cell_type": "code",
   "execution_count": 9,
   "metadata": {
    "collapsed": false
   },
   "outputs": [],
   "source": [
    "def do_execute(self, code, silent, store_history=True, user_expressions=None, allow_stdin=False):\n",
    "    try:\n",
    "        exitcode = int(self.bash_wrapper.run_command('echo $?').rstrip())\n",
    "    except Exception:\n",
    "        exitcode = 1\n",
    "\n",
    "    if exitcode:\n",
    "        error_content = {'execution_count': self.execution_count,\n",
    "                         'ename': '', 'evalue': str(exitcode), 'traceback': []}\n",
    "\n",
    "        self.send_response(self.iopub_socket, 'error', error_content)\n",
    "        error_content['status'] = '_______'\n",
    "        return error_content\n",
    "    else:\n",
    "        return {'status': 'ok', 'execution_count': self.execution_count,\n",
    "                'payload': [], 'user_expressions': {}}"
   ]
  },
  {
   "cell_type": "markdown",
   "metadata": {},
   "source": [
    "If we put all this together, our `do_execute` function will look like this."
   ]
  },
  {
   "cell_type": "code",
   "execution_count": 21,
   "metadata": {
    "collapsed": true
   },
   "outputs": [],
   "source": [
    "def do_execute(self, code, silent, store_history=True, user_expressions=None, allow_stdin=False):\n",
    "    if not code.strip():\n",
    "        return {\n",
    "          'status': 'OK',\n",
    "          'execution_count': self.execution_count,\n",
    "          'payload': [],\n",
    "          'user_expressions': {}\n",
    "        }\n",
    "    \n",
    "    interrupted = False\n",
    "    try:\n",
    "        output = self.bashwrapper.run_command(code.rstrip(), timeout=None)\n",
    "    except KeyboardInterrupt:\n",
    "        self.bash_wrapper.child.sendintr()\n",
    "        interrupted = True\n",
    "        self.bash_wrapper._expect_prompt()\n",
    "        output = self.bash_wrapper.child.before\n",
    "    except EOF:\n",
    "        output = self.bash_wrapper.child.before + 'Restarting Bash'\n",
    "        self._start_bash()\n",
    "    \n",
    "    if not silent:\n",
    "        stream_content = {'name': 'stdout', 'text': output}\n",
    "        self.send_response(self.iopub_socket, 'stream', stream_content)\n",
    "        \n",
    "    if interrupted:\n",
    "        return _____\n",
    "    \n",
    "    try:\n",
    "        exitcode = int(self.bash_wrapper.run_command('echo $?').rstrip())\n",
    "    except Exception:\n",
    "        exitcode = 1\n",
    "\n",
    "    if exitcode:\n",
    "        error_content = {'execution_count': self.execution_count,\n",
    "                         'ename': '', 'evalue': str(exitcode), 'traceback': []}\n",
    "\n",
    "        self.send_response(self.iopub_socket, 'error', error_content)\n",
    "        error_content['status'] = 'error'\n",
    "        return error_content\n",
    "    else:\n",
    "        return {'status': 'ok', 'execution_count': self.execution_count,\n",
    "                'payload': [], 'user_expressions': {}}"
   ]
  },
  {
   "cell_type": "markdown",
   "metadata": {},
   "source": [
    "And that's it for our `do_execute` function. Our entire `MyBashKernel` code will look like this."
   ]
  },
  {
   "cell_type": "code",
   "execution_count": 22,
   "metadata": {
    "collapsed": true
   },
   "outputs": [],
   "source": [
    "class MyBashKernel(Kernel):\n",
    "    implementation = ''\n",
    "    implementation_version = ''\n",
    "    language = ''\n",
    "    language_version = ''\n",
    "    banner = language + language_version + '\\n'\n",
    "    language_info = {\n",
    "        'name': 'bash',\n",
    "        'codemirror_mode': 'shell',\n",
    "        'mimetype': 'text/x-sh',\n",
    "        'file_extension': '.sh'\n",
    "    }\n",
    "    \n",
    "    def __init__(self, **kwargs):\n",
    "        Kernel.__init__(**kwargs)\n",
    "        self._start_bash()\n",
    "\n",
    "    def _start_bash(self):\n",
    "        from pexpect import replwrap, EOF\n",
    "        import signal\n",
    "\n",
    "        sig = signal.signal(signal.SIGINT, signal.SIG_DFL)\n",
    "        try:\n",
    "            self.bash_wrapper = replwrap.bash()\n",
    "        finally:\n",
    "            signal.signal(signal.SIGINT, sig)\n",
    "\n",
    "    def do_execute(self, code, silent, store_history=True, user_expressions=None, allow_stdin=False):\n",
    "        if not code.strip():\n",
    "            return {\n",
    "              'status': 'OK',\n",
    "              'execution_count': self.execution_count,\n",
    "              'payload': [],\n",
    "              'user_expressions': {}\n",
    "            }\n",
    "\n",
    "        interrupted = False\n",
    "        try:\n",
    "            output = self.bashwrapper.run_command(code.rstrip(), timeout=None)\n",
    "        except KeyboardInterrupt:\n",
    "            self.bash_wrapper.child.sendintr()\n",
    "            interrupted = True\n",
    "            self.bash_wrapper._expect_prompt()\n",
    "            output = self.bash_wrapper.child.before\n",
    "        except EOF:\n",
    "            output = self.bash_wrapper.child.before + 'Restarting Bash'\n",
    "            self._start_bash()\n",
    "\n",
    "        if not ____:\n",
    "            stream_content = {'name': 'stdout', 'text': output}\n",
    "            self.send_response(self.iopub_socket, 'stream', stream_content)\n",
    "\n",
    "        if interrupted:\n",
    "            return _____\n",
    "\n",
    "        try:\n",
    "            exitcode = int(self.bash_wrapper.run_command('echo $?').rstrip())\n",
    "        except Exception:\n",
    "            exitcode = 1\n",
    "\n",
    "        if exitcode:\n",
    "            error_content = {'execution_count': self.execution_count,\n",
    "                             'ename': '', 'evalue': str(exitcode), 'traceback': []}\n",
    "\n",
    "            self.send_response(self.iopub_socket, 'error', error_content)\n",
    "            error_content['status'] = 'error'\n",
    "            return error_content\n",
    "        else:\n",
    "            return {'status': 'ok', 'execution_count': self.execution_count,\n",
    "                    'payload': [], 'user_expressions': {}}"
   ]
  },
  {
   "cell_type": "markdown",
   "metadata": {},
   "source": [
    "There are several other functions that we can override from our `Kernel` parent class, including `do_complete` which handles how tab completion is done and `do_history` which handles how history is accessed. These are optional and will add more functionality to our application. For now, we've got the minimum code required that we need to get this working. The next thing that we will need is configure the installation information for our kernel. We can do this in a seperate file. This file outlines the kernelspec which contains the name of the kernel, the version, and how the kernel is run.\n",
    "\n",
    "Remember in addition to developing kernels in Python you can also develop them in the native kernel langauge by leveraging the ZMQ binding library in that langauge.\n",
    "\n",
    "#### Thanks for reading this notebook!"
   ]
  }
 ],
 "metadata": {
  "gist_id": "e1960c440199e5afc2bfd2c85e22fe98",
  "kernelspec": {
   "display_name": "Python 3",
   "language": "python",
   "name": "python3"
  },
  "language_info": {
   "codemirror_mode": {
    "name": "ipython",
    "version": 3
   },
   "file_extension": ".py",
   "mimetype": "text/x-python",
   "name": "python",
   "nbconvert_exporter": "python",
   "pygments_lexer": "ipython3",
   "version": "3.5.1"
  }
 },
 "nbformat": 4,
 "nbformat_minor": 1
}
